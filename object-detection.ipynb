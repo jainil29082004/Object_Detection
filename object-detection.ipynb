{
 "cells": [
  {
   "cell_type": "code",
   "execution_count": 1,
   "metadata": {
    "execution": {
     "iopub.execute_input": "2025-08-02T19:10:33.198694Z",
     "iopub.status.busy": "2025-08-02T19:10:33.198436Z",
     "iopub.status.idle": "2025-08-02T19:10:41.417280Z",
     "shell.execute_reply": "2025-08-02T19:10:41.416760Z",
     "shell.execute_reply.started": "2025-08-02T19:10:33.198673Z"
    },
    "trusted": true
   },
   "outputs": [],
   "source": [
    "import torch\n",
    "import torch.nn as nn\n",
    "import torch.optim as optim\n",
    "from torchvision import datasets, transforms\n",
    "from torch.utils.data import DataLoader, random_split\n",
    "import numpy as np\n",
    "from sklearn.metrics import classification_report, confusion_matrix\n",
    "import matplotlib.pyplot as plt\n",
    "import seaborn as sns\n",
    "import os\n",
    "from tqdm import tqdm"
   ]
  },
  {
   "cell_type": "code",
   "execution_count": 2,
   "metadata": {
    "execution": {
     "iopub.execute_input": "2025-08-02T19:10:41.418908Z",
     "iopub.status.busy": "2025-08-02T19:10:41.418514Z",
     "iopub.status.idle": "2025-08-02T19:10:58.430600Z",
     "shell.execute_reply": "2025-08-02T19:10:58.430013Z",
     "shell.execute_reply.started": "2025-08-02T19:10:41.418880Z"
    },
    "trusted": true
   },
   "outputs": [
    {
     "name": "stderr",
     "output_type": "stream",
     "text": [
      "100%|██████████| 170M/170M [00:11<00:00, 14.4MB/s] \n"
     ]
    }
   ],
   "source": [
    "train_transform = transforms.Compose([\n",
    "    transforms.RandomHorizontalFlip(),\n",
    "    transforms.RandomCrop(32, padding=4),\n",
    "    transforms.RandomRotation(15),\n",
    "    transforms.ToTensor(),\n",
    "])\n",
    "\n",
    "test_transform = transforms.Compose([\n",
    "    transforms.ToTensor(),\n",
    "])\n",
    "\n",
    "fulldataset = datasets.CIFAR10(root=\"/kaggle/working/cifar10\", train=True, download=True, transform=train_transform)\n",
    "\n",
    "traininglength = int(0.7 * len(fulldataset))\n",
    "validationlength = len(fulldataset) - traininglength\n",
    "trainingset, validationset = random_split(fulldataset, [traininglength, validationlength])\n",
    "\n",
    "validationset.dataset = datasets.CIFAR10(root=\"/kaggle/working/cifar10\", train=True, download=False, transform=test_transform)\n",
    "\n",
    "testingdataset = datasets.CIFAR10(root=\"/kaggle/working/cifar10\", train=False, download=True, transform=test_transform)\n",
    "\n",
    "trainingloader = DataLoader(trainingset, batch_size=64, shuffle=True)\n",
    "validationloader = DataLoader(validationset, batch_size=64, shuffle=False)\n",
    "testingloader = DataLoader(testingdataset, batch_size=64, shuffle=False)"
   ]
  },
  {
   "cell_type": "code",
   "execution_count": 3,
   "metadata": {
    "execution": {
     "iopub.execute_input": "2025-08-02T19:10:58.431911Z",
     "iopub.status.busy": "2025-08-02T19:10:58.431667Z",
     "iopub.status.idle": "2025-08-02T19:10:58.438697Z",
     "shell.execute_reply": "2025-08-02T19:10:58.437929Z",
     "shell.execute_reply.started": "2025-08-02T19:10:58.431877Z"
    },
    "trusted": true
   },
   "outputs": [],
   "source": [
    "class OD_CNN(nn.Module):\n",
    "    def __init__(self, num_classes=10):\n",
    "        super(OD_CNN, self).__init__()\n",
    "        self.features = nn.Sequential(\n",
    "\n",
    "            nn.Conv2d(3, 64, kernel_size=3, padding=1),\n",
    "            nn.BatchNorm2d(64),\n",
    "            nn.ReLU(),\n",
    "\n",
    "            nn.Conv2d(64, 64, kernel_size=3, padding=1),\n",
    "            nn.BatchNorm2d(64),\n",
    "            nn.ReLU(),\n",
    "            nn.MaxPool2d(2),      \n",
    "            nn.Dropout2d(0.2),\n",
    "\n",
    "            nn.Conv2d(64, 128, kernel_size=3, padding=1),\n",
    "            nn.BatchNorm2d(128),\n",
    "            nn.ReLU(),\n",
    "\n",
    "            nn.Conv2d(128, 128, kernel_size=3, padding=1),\n",
    "            nn.BatchNorm2d(128),\n",
    "            nn.ReLU(),\n",
    "            nn.MaxPool2d(2),      \n",
    "            nn.Dropout2d(0.3),\n",
    "\n",
    "            nn.Conv2d(128, 256, kernel_size=3, padding=1),\n",
    "            nn.BatchNorm2d(256),\n",
    "            nn.ReLU(),\n",
    "\n",
    "            nn.Conv2d(256, 256, kernel_size=3, padding=1),\n",
    "            nn.BatchNorm2d(256),\n",
    "            nn.ReLU(),\n",
    "            nn.MaxPool2d(2),      \n",
    "            nn.Dropout2d(0.2)\n",
    "        )\n",
    "\n",
    "        self.classifier = nn.Sequential(\n",
    "            nn.Flatten(),\n",
    "            nn.Linear(4096, 512),\n",
    "            nn.BatchNorm1d(512),\n",
    "            nn.ReLU(),\n",
    "            nn.Dropout(0.2),\n",
    "            nn.Linear(512, num_classes)\n",
    "        )\n",
    "\n",
    "    def forward(self, x):\n",
    "        x = self.features(x)\n",
    "        x = self.classifier(x)\n",
    "        return x"
   ]
  },
  {
   "cell_type": "code",
   "execution_count": 4,
   "metadata": {
    "execution": {
     "iopub.execute_input": "2025-08-02T19:10:58.439735Z",
     "iopub.status.busy": "2025-08-02T19:10:58.439346Z",
     "iopub.status.idle": "2025-08-02T19:10:58.710245Z",
     "shell.execute_reply": "2025-08-02T19:10:58.709494Z",
     "shell.execute_reply.started": "2025-08-02T19:10:58.439708Z"
    },
    "trusted": true
   },
   "outputs": [],
   "source": [
    "device = torch.device(\"cuda\" if torch.cuda.is_available() else \"cpu\")\n",
    "model = OD_CNN(num_classes=10).to(device)"
   ]
  },
  {
   "cell_type": "code",
   "execution_count": 5,
   "metadata": {
    "execution": {
     "iopub.execute_input": "2025-08-02T19:10:58.711864Z",
     "iopub.status.busy": "2025-08-02T19:10:58.711612Z",
     "iopub.status.idle": "2025-08-02T19:10:58.716524Z",
     "shell.execute_reply": "2025-08-02T19:10:58.715913Z",
     "shell.execute_reply.started": "2025-08-02T19:10:58.711838Z"
    },
    "trusted": true
   },
   "outputs": [],
   "source": [
    "criterion = nn.CrossEntropyLoss(label_smoothing=0.1)\n",
    "optimizer = optim.Adam(model.parameters(), lr=0.001, weight_decay=1e-4)\n",
    "scheduler = torch.optim.lr_scheduler.StepLR(optimizer, step_size=10, gamma=0.5)\n",
    "totalepochs = 60"
   ]
  },
  {
   "cell_type": "code",
   "execution_count": 7,
   "metadata": {
    "execution": {
     "iopub.execute_input": "2025-08-02T19:11:30.476643Z",
     "iopub.status.busy": "2025-08-02T19:11:30.476363Z",
     "iopub.status.idle": "2025-08-02T19:31:20.175941Z",
     "shell.execute_reply": "2025-08-02T19:31:20.175199Z",
     "shell.execute_reply.started": "2025-08-02T19:11:30.476621Z"
    },
    "trusted": true
   },
   "outputs": [
    {
     "name": "stderr",
     "output_type": "stream",
     "text": [
      "Epoch 1/60 - Training: 100%|██████████| 547/547 [00:17<00:00, 31.65it/s]\n",
      "Epoch 1/60 - Validation: 100%|██████████| 235/235 [00:02<00:00, 87.88it/s]\n"
     ]
    },
    {
     "name": "stdout",
     "output_type": "stream",
     "text": [
      "Epoch 1: Train Loss = 1.5171, Train Accuracy = 0.5370, Validation Loss = 1.3264, Validation Accuracy = 0.6322\n"
     ]
    },
    {
     "name": "stderr",
     "output_type": "stream",
     "text": [
      "Epoch 2/60 - Training: 100%|██████████| 547/547 [00:17<00:00, 31.67it/s]\n",
      "Epoch 2/60 - Validation: 100%|██████████| 235/235 [00:02<00:00, 86.77it/s]\n"
     ]
    },
    {
     "name": "stdout",
     "output_type": "stream",
     "text": [
      "Epoch 2: Train Loss = 1.4141, Train Accuracy = 0.5915, Validation Loss = 1.2116, Validation Accuracy = 0.6855\n"
     ]
    },
    {
     "name": "stderr",
     "output_type": "stream",
     "text": [
      "Epoch 3/60 - Training: 100%|██████████| 547/547 [00:17<00:00, 31.71it/s]\n",
      "Epoch 3/60 - Validation: 100%|██████████| 235/235 [00:02<00:00, 88.30it/s]\n"
     ]
    },
    {
     "name": "stdout",
     "output_type": "stream",
     "text": [
      "Epoch 3: Train Loss = 1.3431, Train Accuracy = 0.6264, Validation Loss = 1.1626, Validation Accuracy = 0.7160\n"
     ]
    },
    {
     "name": "stderr",
     "output_type": "stream",
     "text": [
      "Epoch 4/60 - Training: 100%|██████████| 547/547 [00:17<00:00, 31.56it/s]\n",
      "Epoch 4/60 - Validation: 100%|██████████| 235/235 [00:02<00:00, 87.43it/s]\n"
     ]
    },
    {
     "name": "stdout",
     "output_type": "stream",
     "text": [
      "Epoch 4: Train Loss = 1.2881, Train Accuracy = 0.6539, Validation Loss = 1.1098, Validation Accuracy = 0.7424\n"
     ]
    },
    {
     "name": "stderr",
     "output_type": "stream",
     "text": [
      "Epoch 5/60 - Training: 100%|██████████| 547/547 [00:17<00:00, 31.83it/s]\n",
      "Epoch 5/60 - Validation: 100%|██████████| 235/235 [00:02<00:00, 87.36it/s]\n"
     ]
    },
    {
     "name": "stdout",
     "output_type": "stream",
     "text": [
      "Epoch 5: Train Loss = 1.2514, Train Accuracy = 0.6694, Validation Loss = 1.1044, Validation Accuracy = 0.7441\n"
     ]
    },
    {
     "name": "stderr",
     "output_type": "stream",
     "text": [
      "Epoch 6/60 - Training: 100%|██████████| 547/547 [00:17<00:00, 31.88it/s]\n",
      "Epoch 6/60 - Validation: 100%|██████████| 235/235 [00:02<00:00, 88.22it/s]\n"
     ]
    },
    {
     "name": "stdout",
     "output_type": "stream",
     "text": [
      "Epoch 6: Train Loss = 1.2128, Train Accuracy = 0.6907, Validation Loss = 1.0529, Validation Accuracy = 0.7722\n"
     ]
    },
    {
     "name": "stderr",
     "output_type": "stream",
     "text": [
      "Epoch 7/60 - Training: 100%|██████████| 547/547 [00:17<00:00, 31.83it/s]\n",
      "Epoch 7/60 - Validation: 100%|██████████| 235/235 [00:02<00:00, 87.85it/s]\n"
     ]
    },
    {
     "name": "stdout",
     "output_type": "stream",
     "text": [
      "Epoch 7: Train Loss = 1.1944, Train Accuracy = 0.7011, Validation Loss = 1.0321, Validation Accuracy = 0.7787\n"
     ]
    },
    {
     "name": "stderr",
     "output_type": "stream",
     "text": [
      "Epoch 8/60 - Training: 100%|██████████| 547/547 [00:17<00:00, 31.92it/s]\n",
      "Epoch 8/60 - Validation: 100%|██████████| 235/235 [00:02<00:00, 87.88it/s]\n"
     ]
    },
    {
     "name": "stdout",
     "output_type": "stream",
     "text": [
      "Epoch 8: Train Loss = 1.1669, Train Accuracy = 0.7140, Validation Loss = 1.0072, Validation Accuracy = 0.7905\n"
     ]
    },
    {
     "name": "stderr",
     "output_type": "stream",
     "text": [
      "Epoch 9/60 - Training: 100%|██████████| 547/547 [00:17<00:00, 31.93it/s]\n",
      "Epoch 9/60 - Validation: 100%|██████████| 235/235 [00:02<00:00, 88.40it/s]\n"
     ]
    },
    {
     "name": "stdout",
     "output_type": "stream",
     "text": [
      "Epoch 9: Train Loss = 1.1401, Train Accuracy = 0.7259, Validation Loss = 1.0122, Validation Accuracy = 0.7866\n"
     ]
    },
    {
     "name": "stderr",
     "output_type": "stream",
     "text": [
      "Epoch 10/60 - Training: 100%|██████████| 547/547 [00:17<00:00, 31.80it/s]\n",
      "Epoch 10/60 - Validation: 100%|██████████| 235/235 [00:02<00:00, 88.49it/s]\n"
     ]
    },
    {
     "name": "stdout",
     "output_type": "stream",
     "text": [
      "Epoch 10: Train Loss = 1.0807, Train Accuracy = 0.7512, Validation Loss = 0.9199, Validation Accuracy = 0.8331\n"
     ]
    },
    {
     "name": "stderr",
     "output_type": "stream",
     "text": [
      "Epoch 11/60 - Training: 100%|██████████| 547/547 [00:17<00:00, 31.93it/s]\n",
      "Epoch 11/60 - Validation: 100%|██████████| 235/235 [00:02<00:00, 87.99it/s]\n"
     ]
    },
    {
     "name": "stdout",
     "output_type": "stream",
     "text": [
      "Epoch 11: Train Loss = 1.0515, Train Accuracy = 0.7677, Validation Loss = 0.9386, Validation Accuracy = 0.8245\n"
     ]
    },
    {
     "name": "stderr",
     "output_type": "stream",
     "text": [
      "Epoch 12/60 - Training: 100%|██████████| 547/547 [00:17<00:00, 31.89it/s]\n",
      "Epoch 12/60 - Validation: 100%|██████████| 235/235 [00:02<00:00, 88.45it/s]\n"
     ]
    },
    {
     "name": "stdout",
     "output_type": "stream",
     "text": [
      "Epoch 12: Train Loss = 1.0425, Train Accuracy = 0.7749, Validation Loss = 0.8917, Validation Accuracy = 0.8458\n"
     ]
    },
    {
     "name": "stderr",
     "output_type": "stream",
     "text": [
      "Epoch 13/60 - Training: 100%|██████████| 547/547 [00:17<00:00, 31.79it/s]\n",
      "Epoch 13/60 - Validation: 100%|██████████| 235/235 [00:02<00:00, 87.66it/s]\n"
     ]
    },
    {
     "name": "stdout",
     "output_type": "stream",
     "text": [
      "Epoch 13: Train Loss = 1.0302, Train Accuracy = 0.7786, Validation Loss = 0.8970, Validation Accuracy = 0.8419\n"
     ]
    },
    {
     "name": "stderr",
     "output_type": "stream",
     "text": [
      "Epoch 14/60 - Training: 100%|██████████| 547/547 [00:17<00:00, 32.03it/s]\n",
      "Epoch 14/60 - Validation: 100%|██████████| 235/235 [00:02<00:00, 87.13it/s]\n"
     ]
    },
    {
     "name": "stdout",
     "output_type": "stream",
     "text": [
      "Epoch 14: Train Loss = 1.0160, Train Accuracy = 0.7846, Validation Loss = 0.8859, Validation Accuracy = 0.8477\n"
     ]
    },
    {
     "name": "stderr",
     "output_type": "stream",
     "text": [
      "Epoch 15/60 - Training: 100%|██████████| 547/547 [00:17<00:00, 32.06it/s]\n",
      "Epoch 15/60 - Validation: 100%|██████████| 235/235 [00:02<00:00, 88.13it/s]\n"
     ]
    },
    {
     "name": "stdout",
     "output_type": "stream",
     "text": [
      "Epoch 15: Train Loss = 1.0091, Train Accuracy = 0.7891, Validation Loss = 0.8780, Validation Accuracy = 0.8493\n"
     ]
    },
    {
     "name": "stderr",
     "output_type": "stream",
     "text": [
      "Epoch 16/60 - Training: 100%|██████████| 547/547 [00:17<00:00, 31.79it/s]\n",
      "Epoch 16/60 - Validation: 100%|██████████| 235/235 [00:02<00:00, 87.59it/s]\n"
     ]
    },
    {
     "name": "stdout",
     "output_type": "stream",
     "text": [
      "Epoch 16: Train Loss = 0.9954, Train Accuracy = 0.7910, Validation Loss = 0.8861, Validation Accuracy = 0.8449\n"
     ]
    },
    {
     "name": "stderr",
     "output_type": "stream",
     "text": [
      "Epoch 17/60 - Training: 100%|██████████| 547/547 [00:17<00:00, 31.78it/s]\n",
      "Epoch 17/60 - Validation: 100%|██████████| 235/235 [00:02<00:00, 87.47it/s]\n"
     ]
    },
    {
     "name": "stdout",
     "output_type": "stream",
     "text": [
      "Epoch 17: Train Loss = 0.9874, Train Accuracy = 0.7961, Validation Loss = 0.8626, Validation Accuracy = 0.8567\n"
     ]
    },
    {
     "name": "stderr",
     "output_type": "stream",
     "text": [
      "Epoch 18/60 - Training: 100%|██████████| 547/547 [00:17<00:00, 31.95it/s]\n",
      "Epoch 18/60 - Validation: 100%|██████████| 235/235 [00:02<00:00, 88.30it/s]\n"
     ]
    },
    {
     "name": "stdout",
     "output_type": "stream",
     "text": [
      "Epoch 18: Train Loss = 0.9800, Train Accuracy = 0.8005, Validation Loss = 0.8562, Validation Accuracy = 0.8617\n"
     ]
    },
    {
     "name": "stderr",
     "output_type": "stream",
     "text": [
      "Epoch 19/60 - Training: 100%|██████████| 547/547 [00:17<00:00, 31.96it/s]\n",
      "Epoch 19/60 - Validation: 100%|██████████| 235/235 [00:02<00:00, 86.69it/s]\n"
     ]
    },
    {
     "name": "stdout",
     "output_type": "stream",
     "text": [
      "Epoch 19: Train Loss = 0.9693, Train Accuracy = 0.8061, Validation Loss = 0.8543, Validation Accuracy = 0.8592\n"
     ]
    },
    {
     "name": "stderr",
     "output_type": "stream",
     "text": [
      "Epoch 20/60 - Training: 100%|██████████| 547/547 [00:17<00:00, 32.03it/s]\n",
      "Epoch 20/60 - Validation: 100%|██████████| 235/235 [00:02<00:00, 88.23it/s]\n"
     ]
    },
    {
     "name": "stdout",
     "output_type": "stream",
     "text": [
      "Epoch 20: Train Loss = 0.9367, Train Accuracy = 0.8225, Validation Loss = 0.8285, Validation Accuracy = 0.8728\n"
     ]
    },
    {
     "name": "stderr",
     "output_type": "stream",
     "text": [
      "Epoch 21/60 - Training: 100%|██████████| 547/547 [00:17<00:00, 31.84it/s]\n",
      "Epoch 21/60 - Validation: 100%|██████████| 235/235 [00:02<00:00, 88.56it/s]\n"
     ]
    },
    {
     "name": "stdout",
     "output_type": "stream",
     "text": [
      "Epoch 21: Train Loss = 0.9250, Train Accuracy = 0.8283, Validation Loss = 0.8216, Validation Accuracy = 0.8751\n"
     ]
    },
    {
     "name": "stderr",
     "output_type": "stream",
     "text": [
      "Epoch 22/60 - Training: 100%|██████████| 547/547 [00:17<00:00, 31.96it/s]\n",
      "Epoch 22/60 - Validation: 100%|██████████| 235/235 [00:02<00:00, 88.81it/s]\n"
     ]
    },
    {
     "name": "stdout",
     "output_type": "stream",
     "text": [
      "Epoch 22: Train Loss = 0.9103, Train Accuracy = 0.8323, Validation Loss = 0.8308, Validation Accuracy = 0.8713\n"
     ]
    },
    {
     "name": "stderr",
     "output_type": "stream",
     "text": [
      "Epoch 23/60 - Training: 100%|██████████| 547/547 [00:17<00:00, 31.90it/s]\n",
      "Epoch 23/60 - Validation: 100%|██████████| 235/235 [00:02<00:00, 87.31it/s]\n"
     ]
    },
    {
     "name": "stdout",
     "output_type": "stream",
     "text": [
      "Epoch 23: Train Loss = 0.9066, Train Accuracy = 0.8363, Validation Loss = 0.8085, Validation Accuracy = 0.8777\n"
     ]
    },
    {
     "name": "stderr",
     "output_type": "stream",
     "text": [
      "Epoch 24/60 - Training: 100%|██████████| 547/547 [00:17<00:00, 31.90it/s]\n",
      "Epoch 24/60 - Validation: 100%|██████████| 235/235 [00:02<00:00, 88.31it/s]\n"
     ]
    },
    {
     "name": "stdout",
     "output_type": "stream",
     "text": [
      "Epoch 24: Train Loss = 0.8980, Train Accuracy = 0.8374, Validation Loss = 0.8107, Validation Accuracy = 0.8760\n"
     ]
    },
    {
     "name": "stderr",
     "output_type": "stream",
     "text": [
      "Epoch 25/60 - Training: 100%|██████████| 547/547 [00:17<00:00, 31.94it/s]\n",
      "Epoch 25/60 - Validation: 100%|██████████| 235/235 [00:02<00:00, 87.10it/s]\n"
     ]
    },
    {
     "name": "stdout",
     "output_type": "stream",
     "text": [
      "Epoch 25: Train Loss = 0.8956, Train Accuracy = 0.8401, Validation Loss = 0.8108, Validation Accuracy = 0.8755\n"
     ]
    },
    {
     "name": "stderr",
     "output_type": "stream",
     "text": [
      "Epoch 26/60 - Training: 100%|██████████| 547/547 [00:17<00:00, 31.94it/s]\n",
      "Epoch 26/60 - Validation: 100%|██████████| 235/235 [00:02<00:00, 86.66it/s]\n"
     ]
    },
    {
     "name": "stdout",
     "output_type": "stream",
     "text": [
      "Epoch 26: Train Loss = 0.8927, Train Accuracy = 0.8430, Validation Loss = 0.8028, Validation Accuracy = 0.8822\n"
     ]
    },
    {
     "name": "stderr",
     "output_type": "stream",
     "text": [
      "Epoch 27/60 - Training: 100%|██████████| 547/547 [00:17<00:00, 31.98it/s]\n",
      "Epoch 27/60 - Validation: 100%|██████████| 235/235 [00:02<00:00, 88.79it/s]\n"
     ]
    },
    {
     "name": "stdout",
     "output_type": "stream",
     "text": [
      "Epoch 27: Train Loss = 0.8864, Train Accuracy = 0.8425, Validation Loss = 0.7943, Validation Accuracy = 0.8840\n"
     ]
    },
    {
     "name": "stderr",
     "output_type": "stream",
     "text": [
      "Epoch 28/60 - Training: 100%|██████████| 547/547 [00:17<00:00, 31.72it/s]\n",
      "Epoch 28/60 - Validation: 100%|██████████| 235/235 [00:02<00:00, 88.45it/s]\n"
     ]
    },
    {
     "name": "stdout",
     "output_type": "stream",
     "text": [
      "Epoch 28: Train Loss = 0.8713, Train Accuracy = 0.8520, Validation Loss = 0.7997, Validation Accuracy = 0.8839\n"
     ]
    },
    {
     "name": "stderr",
     "output_type": "stream",
     "text": [
      "Epoch 29/60 - Training: 100%|██████████| 547/547 [00:17<00:00, 31.97it/s]\n",
      "Epoch 29/60 - Validation: 100%|██████████| 235/235 [00:02<00:00, 87.97it/s]\n"
     ]
    },
    {
     "name": "stdout",
     "output_type": "stream",
     "text": [
      "Epoch 29: Train Loss = 0.8720, Train Accuracy = 0.8514, Validation Loss = 0.7907, Validation Accuracy = 0.8883\n"
     ]
    },
    {
     "name": "stderr",
     "output_type": "stream",
     "text": [
      "Epoch 30/60 - Training: 100%|██████████| 547/547 [00:17<00:00, 31.76it/s]\n",
      "Epoch 30/60 - Validation: 100%|██████████| 235/235 [00:02<00:00, 88.14it/s]\n"
     ]
    },
    {
     "name": "stdout",
     "output_type": "stream",
     "text": [
      "Epoch 30: Train Loss = 0.8558, Train Accuracy = 0.8582, Validation Loss = 0.7830, Validation Accuracy = 0.8897\n"
     ]
    },
    {
     "name": "stderr",
     "output_type": "stream",
     "text": [
      "Epoch 31/60 - Training: 100%|██████████| 547/547 [00:17<00:00, 31.88it/s]\n",
      "Epoch 31/60 - Validation: 100%|██████████| 235/235 [00:02<00:00, 87.73it/s]\n"
     ]
    },
    {
     "name": "stdout",
     "output_type": "stream",
     "text": [
      "Epoch 31: Train Loss = 0.8493, Train Accuracy = 0.8595, Validation Loss = 0.7766, Validation Accuracy = 0.8922\n"
     ]
    },
    {
     "name": "stderr",
     "output_type": "stream",
     "text": [
      "Epoch 32/60 - Training: 100%|██████████| 547/547 [00:17<00:00, 31.83it/s]\n",
      "Epoch 32/60 - Validation: 100%|██████████| 235/235 [00:02<00:00, 86.11it/s]\n"
     ]
    },
    {
     "name": "stdout",
     "output_type": "stream",
     "text": [
      "Epoch 32: Train Loss = 0.8393, Train Accuracy = 0.8652, Validation Loss = 0.7772, Validation Accuracy = 0.8916\n"
     ]
    },
    {
     "name": "stderr",
     "output_type": "stream",
     "text": [
      "Epoch 33/60 - Training: 100%|██████████| 547/547 [00:17<00:00, 31.94it/s]\n",
      "Epoch 33/60 - Validation: 100%|██████████| 235/235 [00:02<00:00, 87.65it/s]\n"
     ]
    },
    {
     "name": "stdout",
     "output_type": "stream",
     "text": [
      "Epoch 33: Train Loss = 0.8355, Train Accuracy = 0.8673, Validation Loss = 0.7706, Validation Accuracy = 0.8931\n"
     ]
    },
    {
     "name": "stderr",
     "output_type": "stream",
     "text": [
      "Epoch 34/60 - Training: 100%|██████████| 547/547 [00:17<00:00, 31.96it/s]\n",
      "Epoch 34/60 - Validation: 100%|██████████| 235/235 [00:02<00:00, 87.62it/s]\n"
     ]
    },
    {
     "name": "stdout",
     "output_type": "stream",
     "text": [
      "Epoch 34: Train Loss = 0.8294, Train Accuracy = 0.8700, Validation Loss = 0.7704, Validation Accuracy = 0.8934\n"
     ]
    },
    {
     "name": "stderr",
     "output_type": "stream",
     "text": [
      "Epoch 35/60 - Training: 100%|██████████| 547/547 [00:17<00:00, 31.94it/s]\n",
      "Epoch 35/60 - Validation: 100%|██████████| 235/235 [00:02<00:00, 87.20it/s]\n"
     ]
    },
    {
     "name": "stdout",
     "output_type": "stream",
     "text": [
      "Epoch 35: Train Loss = 0.8293, Train Accuracy = 0.8700, Validation Loss = 0.7693, Validation Accuracy = 0.8928\n"
     ]
    },
    {
     "name": "stderr",
     "output_type": "stream",
     "text": [
      "Epoch 36/60 - Training: 100%|██████████| 547/547 [00:17<00:00, 32.06it/s]\n",
      "Epoch 36/60 - Validation: 100%|██████████| 235/235 [00:02<00:00, 88.88it/s]\n"
     ]
    },
    {
     "name": "stdout",
     "output_type": "stream",
     "text": [
      "Epoch 36: Train Loss = 0.8281, Train Accuracy = 0.8705, Validation Loss = 0.7672, Validation Accuracy = 0.8931\n"
     ]
    },
    {
     "name": "stderr",
     "output_type": "stream",
     "text": [
      "Epoch 37/60 - Training: 100%|██████████| 547/547 [00:17<00:00, 32.04it/s]\n",
      "Epoch 37/60 - Validation: 100%|██████████| 235/235 [00:02<00:00, 87.86it/s]\n"
     ]
    },
    {
     "name": "stdout",
     "output_type": "stream",
     "text": [
      "Epoch 37: Train Loss = 0.8253, Train Accuracy = 0.8709, Validation Loss = 0.7651, Validation Accuracy = 0.8954\n"
     ]
    },
    {
     "name": "stderr",
     "output_type": "stream",
     "text": [
      "Epoch 38/60 - Training: 100%|██████████| 547/547 [00:17<00:00, 31.97it/s]\n",
      "Epoch 38/60 - Validation: 100%|██████████| 235/235 [00:02<00:00, 86.81it/s]\n"
     ]
    },
    {
     "name": "stdout",
     "output_type": "stream",
     "text": [
      "Epoch 38: Train Loss = 0.8188, Train Accuracy = 0.8751, Validation Loss = 0.7682, Validation Accuracy = 0.8957\n"
     ]
    },
    {
     "name": "stderr",
     "output_type": "stream",
     "text": [
      "Epoch 39/60 - Training: 100%|██████████| 547/547 [00:17<00:00, 31.87it/s]\n",
      "Epoch 39/60 - Validation: 100%|██████████| 235/235 [00:02<00:00, 87.84it/s]\n"
     ]
    },
    {
     "name": "stdout",
     "output_type": "stream",
     "text": [
      "Epoch 39: Train Loss = 0.8182, Train Accuracy = 0.8763, Validation Loss = 0.7655, Validation Accuracy = 0.8954\n"
     ]
    },
    {
     "name": "stderr",
     "output_type": "stream",
     "text": [
      "Epoch 40/60 - Training: 100%|██████████| 547/547 [00:17<00:00, 31.94it/s]\n",
      "Epoch 40/60 - Validation: 100%|██████████| 235/235 [00:02<00:00, 87.50it/s]\n"
     ]
    },
    {
     "name": "stdout",
     "output_type": "stream",
     "text": [
      "Epoch 40: Train Loss = 0.8060, Train Accuracy = 0.8814, Validation Loss = 0.7571, Validation Accuracy = 0.8991\n"
     ]
    },
    {
     "name": "stderr",
     "output_type": "stream",
     "text": [
      "Epoch 41/60 - Training: 100%|██████████| 547/547 [00:17<00:00, 31.84it/s]\n",
      "Epoch 41/60 - Validation: 100%|██████████| 235/235 [00:02<00:00, 86.55it/s]\n"
     ]
    },
    {
     "name": "stdout",
     "output_type": "stream",
     "text": [
      "Epoch 41: Train Loss = 0.8024, Train Accuracy = 0.8830, Validation Loss = 0.7603, Validation Accuracy = 0.8979\n"
     ]
    },
    {
     "name": "stderr",
     "output_type": "stream",
     "text": [
      "Epoch 42/60 - Training: 100%|██████████| 547/547 [00:17<00:00, 31.88it/s]\n",
      "Epoch 42/60 - Validation: 100%|██████████| 235/235 [00:02<00:00, 88.25it/s]\n"
     ]
    },
    {
     "name": "stdout",
     "output_type": "stream",
     "text": [
      "Epoch 42: Train Loss = 0.8026, Train Accuracy = 0.8834, Validation Loss = 0.7551, Validation Accuracy = 0.9008\n"
     ]
    },
    {
     "name": "stderr",
     "output_type": "stream",
     "text": [
      "Epoch 43/60 - Training: 100%|██████████| 547/547 [00:17<00:00, 31.91it/s]\n",
      "Epoch 43/60 - Validation: 100%|██████████| 235/235 [00:02<00:00, 87.57it/s]\n"
     ]
    },
    {
     "name": "stdout",
     "output_type": "stream",
     "text": [
      "Epoch 43: Train Loss = 0.7988, Train Accuracy = 0.8852, Validation Loss = 0.7544, Validation Accuracy = 0.9016\n"
     ]
    },
    {
     "name": "stderr",
     "output_type": "stream",
     "text": [
      "Epoch 44/60 - Training: 100%|██████████| 547/547 [00:17<00:00, 31.97it/s]\n",
      "Epoch 44/60 - Validation: 100%|██████████| 235/235 [00:02<00:00, 85.88it/s]\n"
     ]
    },
    {
     "name": "stdout",
     "output_type": "stream",
     "text": [
      "Epoch 44: Train Loss = 0.7992, Train Accuracy = 0.8837, Validation Loss = 0.7576, Validation Accuracy = 0.9001\n"
     ]
    },
    {
     "name": "stderr",
     "output_type": "stream",
     "text": [
      "Epoch 45/60 - Training: 100%|██████████| 547/547 [00:17<00:00, 32.06it/s]\n",
      "Epoch 45/60 - Validation: 100%|██████████| 235/235 [00:02<00:00, 87.36it/s]\n"
     ]
    },
    {
     "name": "stdout",
     "output_type": "stream",
     "text": [
      "Epoch 45: Train Loss = 0.7927, Train Accuracy = 0.8880, Validation Loss = 0.7531, Validation Accuracy = 0.9011\n"
     ]
    },
    {
     "name": "stderr",
     "output_type": "stream",
     "text": [
      "Epoch 46/60 - Training: 100%|██████████| 547/547 [00:17<00:00, 31.99it/s]\n",
      "Epoch 46/60 - Validation: 100%|██████████| 235/235 [00:02<00:00, 88.46it/s]\n"
     ]
    },
    {
     "name": "stdout",
     "output_type": "stream",
     "text": [
      "Epoch 46: Train Loss = 0.7960, Train Accuracy = 0.8853, Validation Loss = 0.7518, Validation Accuracy = 0.9013\n"
     ]
    },
    {
     "name": "stderr",
     "output_type": "stream",
     "text": [
      "Epoch 47/60 - Training: 100%|██████████| 547/547 [00:17<00:00, 31.92it/s]\n",
      "Epoch 47/60 - Validation: 100%|██████████| 235/235 [00:02<00:00, 87.55it/s]\n"
     ]
    },
    {
     "name": "stdout",
     "output_type": "stream",
     "text": [
      "Epoch 47: Train Loss = 0.7939, Train Accuracy = 0.8877, Validation Loss = 0.7496, Validation Accuracy = 0.9039\n"
     ]
    },
    {
     "name": "stderr",
     "output_type": "stream",
     "text": [
      "Epoch 48/60 - Training: 100%|██████████| 547/547 [00:17<00:00, 31.74it/s]\n",
      "Epoch 48/60 - Validation: 100%|██████████| 235/235 [00:02<00:00, 86.13it/s]\n"
     ]
    },
    {
     "name": "stdout",
     "output_type": "stream",
     "text": [
      "Epoch 48: Train Loss = 0.7849, Train Accuracy = 0.8923, Validation Loss = 0.7538, Validation Accuracy = 0.9005\n"
     ]
    },
    {
     "name": "stderr",
     "output_type": "stream",
     "text": [
      "Epoch 49/60 - Training: 100%|██████████| 547/547 [00:17<00:00, 32.04it/s]\n",
      "Epoch 49/60 - Validation: 100%|██████████| 235/235 [00:02<00:00, 87.88it/s]\n"
     ]
    },
    {
     "name": "stdout",
     "output_type": "stream",
     "text": [
      "Epoch 49: Train Loss = 0.7861, Train Accuracy = 0.8906, Validation Loss = 0.7519, Validation Accuracy = 0.9007\n"
     ]
    },
    {
     "name": "stderr",
     "output_type": "stream",
     "text": [
      "Epoch 50/60 - Training: 100%|██████████| 547/547 [00:17<00:00, 31.97it/s]\n",
      "Epoch 50/60 - Validation: 100%|██████████| 235/235 [00:02<00:00, 87.04it/s]\n"
     ]
    },
    {
     "name": "stdout",
     "output_type": "stream",
     "text": [
      "Epoch 50: Train Loss = 0.7849, Train Accuracy = 0.8906, Validation Loss = 0.7488, Validation Accuracy = 0.9026\n"
     ]
    },
    {
     "name": "stderr",
     "output_type": "stream",
     "text": [
      "Epoch 51/60 - Training: 100%|██████████| 547/547 [00:17<00:00, 32.10it/s]\n",
      "Epoch 51/60 - Validation: 100%|██████████| 235/235 [00:02<00:00, 86.93it/s]\n"
     ]
    },
    {
     "name": "stdout",
     "output_type": "stream",
     "text": [
      "Epoch 51: Train Loss = 0.7832, Train Accuracy = 0.8919, Validation Loss = 0.7486, Validation Accuracy = 0.9043\n"
     ]
    },
    {
     "name": "stderr",
     "output_type": "stream",
     "text": [
      "Epoch 52/60 - Training: 100%|██████████| 547/547 [00:17<00:00, 32.05it/s]\n",
      "Epoch 52/60 - Validation: 100%|██████████| 235/235 [00:02<00:00, 87.47it/s]\n"
     ]
    },
    {
     "name": "stdout",
     "output_type": "stream",
     "text": [
      "Epoch 52: Train Loss = 0.7806, Train Accuracy = 0.8945, Validation Loss = 0.7482, Validation Accuracy = 0.9025\n"
     ]
    },
    {
     "name": "stderr",
     "output_type": "stream",
     "text": [
      "Epoch 53/60 - Training: 100%|██████████| 547/547 [00:17<00:00, 31.95it/s]\n",
      "Epoch 53/60 - Validation: 100%|██████████| 235/235 [00:02<00:00, 87.33it/s]\n"
     ]
    },
    {
     "name": "stdout",
     "output_type": "stream",
     "text": [
      "Epoch 53: Train Loss = 0.7791, Train Accuracy = 0.8932, Validation Loss = 0.7461, Validation Accuracy = 0.9049\n"
     ]
    },
    {
     "name": "stderr",
     "output_type": "stream",
     "text": [
      "Epoch 54/60 - Training: 100%|██████████| 547/547 [00:17<00:00, 32.05it/s]\n",
      "Epoch 54/60 - Validation: 100%|██████████| 235/235 [00:02<00:00, 86.97it/s]\n"
     ]
    },
    {
     "name": "stdout",
     "output_type": "stream",
     "text": [
      "Epoch 54: Train Loss = 0.7758, Train Accuracy = 0.8935, Validation Loss = 0.7472, Validation Accuracy = 0.9037\n"
     ]
    },
    {
     "name": "stderr",
     "output_type": "stream",
     "text": [
      "Epoch 55/60 - Training: 100%|██████████| 547/547 [00:17<00:00, 32.02it/s]\n",
      "Epoch 55/60 - Validation: 100%|██████████| 235/235 [00:02<00:00, 85.85it/s]\n"
     ]
    },
    {
     "name": "stdout",
     "output_type": "stream",
     "text": [
      "Epoch 55: Train Loss = 0.7770, Train Accuracy = 0.8939, Validation Loss = 0.7468, Validation Accuracy = 0.9033\n"
     ]
    },
    {
     "name": "stderr",
     "output_type": "stream",
     "text": [
      "Epoch 56/60 - Training: 100%|██████████| 547/547 [00:17<00:00, 32.03it/s]\n",
      "Epoch 56/60 - Validation: 100%|██████████| 235/235 [00:02<00:00, 86.99it/s]\n"
     ]
    },
    {
     "name": "stdout",
     "output_type": "stream",
     "text": [
      "Epoch 56: Train Loss = 0.7718, Train Accuracy = 0.8972, Validation Loss = 0.7475, Validation Accuracy = 0.9035\n"
     ]
    },
    {
     "name": "stderr",
     "output_type": "stream",
     "text": [
      "Epoch 57/60 - Training: 100%|██████████| 547/547 [00:17<00:00, 32.03it/s]\n",
      "Epoch 57/60 - Validation: 100%|██████████| 235/235 [00:02<00:00, 87.25it/s]\n"
     ]
    },
    {
     "name": "stdout",
     "output_type": "stream",
     "text": [
      "Epoch 57: Train Loss = 0.7728, Train Accuracy = 0.8963, Validation Loss = 0.7469, Validation Accuracy = 0.9033\n"
     ]
    },
    {
     "name": "stderr",
     "output_type": "stream",
     "text": [
      "Epoch 58/60 - Training: 100%|██████████| 547/547 [00:17<00:00, 32.10it/s]\n",
      "Epoch 58/60 - Validation: 100%|██████████| 235/235 [00:02<00:00, 86.96it/s]\n"
     ]
    },
    {
     "name": "stdout",
     "output_type": "stream",
     "text": [
      "Epoch 58: Train Loss = 0.7720, Train Accuracy = 0.8965, Validation Loss = 0.7440, Validation Accuracy = 0.9052\n"
     ]
    },
    {
     "name": "stderr",
     "output_type": "stream",
     "text": [
      "Epoch 59/60 - Training: 100%|██████████| 547/547 [00:17<00:00, 32.00it/s]\n",
      "Epoch 59/60 - Validation: 100%|██████████| 235/235 [00:02<00:00, 87.01it/s]\n"
     ]
    },
    {
     "name": "stdout",
     "output_type": "stream",
     "text": [
      "Epoch 59: Train Loss = 0.7706, Train Accuracy = 0.8964, Validation Loss = 0.7415, Validation Accuracy = 0.9063\n"
     ]
    },
    {
     "name": "stderr",
     "output_type": "stream",
     "text": [
      "Epoch 60/60 - Training: 100%|██████████| 547/547 [00:17<00:00, 31.93it/s]\n",
      "Epoch 60/60 - Validation: 100%|██████████| 235/235 [00:02<00:00, 88.13it/s]"
     ]
    },
    {
     "name": "stdout",
     "output_type": "stream",
     "text": [
      "Epoch 60: Train Loss = 0.7694, Train Accuracy = 0.8985, Validation Loss = 0.7429, Validation Accuracy = 0.9057\n"
     ]
    },
    {
     "name": "stderr",
     "output_type": "stream",
     "text": [
      "\n"
     ]
    }
   ],
   "source": [
    "totalepochs = 60\n",
    "traininglosslist = []\n",
    "validationlosslist = []\n",
    "\n",
    "for epoch in range(totalepochs):\n",
    "    model.train()\n",
    "    Loss = 0.0\n",
    "    correct = 0\n",
    "    total = 0\n",
    "\n",
    "    for images, labels in tqdm(trainingloader, desc=f\"Epoch {epoch+1}/{totalepochs} - Training\"):\n",
    "        images = images.to(device)\n",
    "        labels = labels.to(device)\n",
    "        optimizer.zero_grad()\n",
    "        output = model(images)\n",
    "        loss = criterion(output, labels)\n",
    "        loss.backward()\n",
    "        optimizer.step()\n",
    "\n",
    "        Loss += loss.item()\n",
    "        _, prediction = torch.max(output, 1)\n",
    "        match = (prediction == labels)\n",
    "        matchcount = match.sum()\n",
    "        correct += matchcount.item()  \n",
    "        total += labels.size(0)\n",
    "\n",
    "    trainingloss = Loss / len(trainingloader)\n",
    "    trainingaccuracy = correct / total\n",
    "    traininglosslist.append(trainingloss)\n",
    "\n",
    "    model.eval()\n",
    "    validationloss = 0.0\n",
    "    correctvalidation = 0\n",
    "    totalvalidation = 0\n",
    "    with torch.no_grad():\n",
    "        for images, labels in tqdm(validationloader, desc=f\"Epoch {epoch+1}/{totalepochs} - Validation\"):\n",
    "            images = images.to(device)\n",
    "            labels = labels.to(device)\n",
    "            output = model(images)\n",
    "            loss = criterion(output, labels)\n",
    "            validationloss += loss.item()\n",
    "            \n",
    "            _, prediction = torch.max(output, 1)\n",
    "            match = (prediction == labels) \n",
    "            matchcount = match.sum()\n",
    "            correctvalidation += matchcount.item()\n",
    "            totalvalidation += labels.size(0)\n",
    "\n",
    "    valloss = validationloss / len(validationloader)\n",
    "    validationaccuracy = correctvalidation / totalvalidation\n",
    "    validationlosslist.append(valloss)\n",
    "\n",
    "    scheduler.step()\n",
    "\n",
    "    print(f\"Epoch {epoch+1}: \"\n",
    "          f\"Train Loss = {trainingloss:.4f}, Train Accuracy = {trainingaccuracy:.4f}, \"\n",
    "          f\"Validation Loss = {valloss:.4f}, Validation Accuracy = {validationaccuracy:.4f}\")"
   ]
  },
  {
   "cell_type": "code",
   "execution_count": 8,
   "metadata": {
    "execution": {
     "iopub.execute_input": "2025-08-02T19:31:20.177437Z",
     "iopub.status.busy": "2025-08-02T19:31:20.177178Z",
     "iopub.status.idle": "2025-08-02T19:31:21.979080Z",
     "shell.execute_reply": "2025-08-02T19:31:21.978464Z",
     "shell.execute_reply.started": "2025-08-02T19:31:20.177419Z"
    },
    "trusted": true
   },
   "outputs": [
    {
     "name": "stderr",
     "output_type": "stream",
     "text": [
      "Testing: 100%|██████████| 157/157 [00:01<00:00, 87.57it/s]"
     ]
    },
    {
     "name": "stdout",
     "output_type": "stream",
     "text": [
      "\n",
      "Test Accuracy: 90.38%\n"
     ]
    },
    {
     "name": "stderr",
     "output_type": "stream",
     "text": [
      "\n"
     ]
    }
   ],
   "source": [
    "def testdataset(model, test_loader, device):\n",
    "    model.eval()\n",
    "    correct = 0\n",
    "    total = 0\n",
    "    allpredictions = []\n",
    "    alltargets = []\n",
    "\n",
    "    with torch.no_grad():\n",
    "        for images, labels in tqdm(test_loader, desc=\"Testing\"):\n",
    "            images, labels = images.to(device), labels.to(device)\n",
    "            output = model(images)\n",
    "            _, predicted = torch.max(output, 1)\n",
    "\n",
    "            total += labels.size(0)\n",
    "            match = (predicted == labels)\n",
    "            matchcount = match.sum()\n",
    "            correct += matchcount.item() \n",
    "\n",
    "            p = predicted.cpu().numpy()\n",
    "            q = labels.cpu().numpy()\n",
    "            allpredictions.extend(p)\n",
    "            alltargets.extend(q)\n",
    "\n",
    "    accuracy = 100 * correct / total\n",
    "    print(f\"\\nTest Accuracy: {accuracy:.2f}%\")\n",
    "    \n",
    "testdataset(model, testingloader, device)"
   ]
  },
  {
   "cell_type": "code",
   "execution_count": 9,
   "metadata": {
    "execution": {
     "iopub.execute_input": "2025-08-02T19:31:21.979897Z",
     "iopub.status.busy": "2025-08-02T19:31:21.979722Z",
     "iopub.status.idle": "2025-08-02T19:31:22.011496Z",
     "shell.execute_reply": "2025-08-02T19:31:22.010902Z",
     "shell.execute_reply.started": "2025-08-02T19:31:21.979883Z"
    },
    "trusted": true
   },
   "outputs": [],
   "source": [
    "torch.save(model.state_dict(), 'weight.pth')"
   ]
  },
  {
   "cell_type": "code",
   "execution_count": 10,
   "metadata": {
    "execution": {
     "iopub.execute_input": "2025-08-02T19:31:22.013279Z",
     "iopub.status.busy": "2025-08-02T19:31:22.013011Z",
     "iopub.status.idle": "2025-08-02T19:31:22.280736Z",
     "shell.execute_reply": "2025-08-02T19:31:22.280015Z",
     "shell.execute_reply.started": "2025-08-02T19:31:22.013253Z"
    },
    "trusted": true
   },
   "outputs": [
    {
     "data": {
      "image/png": "[encoded data removed]",
      "text/plain": [
       "<Figure size 800x500 with 1 Axes>"
      ]
     },
     "metadata": {},
     "output_type": "display_data"
    }
   ],
   "source": [
    "import matplotlib.pyplot as plt\n",
    "\n",
    "epochs = range(1, totalepochs + 1)\n",
    "\n",
    "plt.figure(figsize=(8, 5))\n",
    "plt.plot(epochs, traininglosslist, label='Training Loss', marker='o', linestyle='-')\n",
    "plt.plot(epochs, validationlosslist, label='Validation Loss', marker='s', linestyle='--')\n",
    "plt.xlabel('Epoch')\n",
    "plt.ylabel('Loss')\n",
    "plt.title('Training and Validation Loss')\n",
    "plt.legend()\n",
    "plt.grid(True)\n",
    "plt.tight_layout()\n",
    "plt.show()\n"
   ]
  }
 ],
 "metadata": {
  "kaggle": {
   "accelerator": "gpu",
   "dataSources": [
    {
     "datasetId": 7994325,
     "sourceId": 12650081,
     "sourceType": "datasetVersion"
    }
   ],
   "dockerImageVersionId": 31090,
   "isGpuEnabled": true,
   "isInternetEnabled": true,
   "language": "python",
   "sourceType": "notebook"
  },
  "kernelspec": {
   "display_name": "Python 3",
   "language": "python",
   "name": "python3"
  },
  "language_info": {
   "codemirror_mode": {
    "name": "ipython",
    "version": 3
   },
   "file_extension": ".py",
   "mimetype": "text/x-python",
   "name": "python",
   "nbconvert_exporter": "python",
   "pygments_lexer": "ipython3",
   "version": "3.11.13"
  }
 },
 "nbformat": 4,
 "nbformat_minor": 4
}
